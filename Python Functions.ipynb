{
 "cells": [
  {
   "cell_type": "markdown",
   "id": "40ba3f7c",
   "metadata": {},
   "source": [
    "# Functions"
   ]
  },
  {
   "cell_type": "code",
   "execution_count": 11,
   "id": "a9ea898e",
   "metadata": {},
   "outputs": [
    {
     "name": "stdout",
     "output_type": "stream",
     "text": [
      "hello\n"
     ]
    }
   ],
   "source": [
    "def say_hello():\n",
    "    print('hello')\n",
    "say_hello()    "
   ]
  },
  {
   "cell_type": "code",
   "execution_count": 4,
   "id": "bf516ccb",
   "metadata": {},
   "outputs": [],
   "source": [
    "def say_hello(name):\n",
    "    print('Hello {}'.format(name))"
   ]
  },
  {
   "cell_type": "code",
   "execution_count": 5,
   "id": "d6402fb7",
   "metadata": {},
   "outputs": [
    {
     "name": "stdout",
     "output_type": "stream",
     "text": [
      "Hello Josh\n"
     ]
    }
   ],
   "source": [
    "say_hello('Josh')"
   ]
  },
  {
   "cell_type": "code",
   "execution_count": 6,
   "id": "49e02c6d",
   "metadata": {},
   "outputs": [
    {
     "name": "stdout",
     "output_type": "stream",
     "text": [
      "Hello josh\n"
     ]
    }
   ],
   "source": [
    "#we can also write above code in similar manner\n",
    "def say_hello(name = 'josh'):\n",
    "    print('Hello {}'.format(name))\n",
    "say_hello()"
   ]
  },
  {
   "cell_type": "code",
   "execution_count": 12,
   "id": "b2194dc4",
   "metadata": {},
   "outputs": [],
   "source": [
    "def add_num(num1,num2):\n",
    "    return num1 + num2"
   ]
  },
  {
   "cell_type": "code",
   "execution_count": 13,
   "id": "c5662504",
   "metadata": {},
   "outputs": [
    {
     "data": {
      "text/plain": [
       "30"
      ]
     },
     "execution_count": 13,
     "metadata": {},
     "output_type": "execute_result"
    }
   ],
   "source": [
    "result = add_num(10,20)\n",
    "result"
   ]
  },
  {
   "cell_type": "code",
   "execution_count": null,
   "id": "12a400ad",
   "metadata": {},
   "outputs": [],
   "source": [
    "#Difference between Print and Return"
   ]
  },
  {
   "cell_type": "code",
   "execution_count": 15,
   "id": "da002037",
   "metadata": {},
   "outputs": [],
   "source": [
    "def print_result(a,b):\n",
    "    print(a+b)"
   ]
  },
  {
   "cell_type": "code",
   "execution_count": 20,
   "id": "bb606619",
   "metadata": {},
   "outputs": [],
   "source": [
    "def return_result(a,b):\n",
    "    return a+b"
   ]
  },
  {
   "cell_type": "code",
   "execution_count": 16,
   "id": "a215cc35",
   "metadata": {},
   "outputs": [
    {
     "name": "stdout",
     "output_type": "stream",
     "text": [
      "30\n"
     ]
    }
   ],
   "source": [
    "print_result(10,20)  #It just printing out the result"
   ]
  },
  {
   "cell_type": "code",
   "execution_count": 23,
   "id": "1b7b61b0",
   "metadata": {},
   "outputs": [
    {
     "data": {
      "text/plain": [
       "30"
      ]
     },
     "execution_count": 23,
     "metadata": {},
     "output_type": "execute_result"
    }
   ],
   "source": [
    "result = return_result(10,20) #It save the result to some result variable\n",
    "result"
   ]
  },
  {
   "cell_type": "code",
   "execution_count": 87,
   "id": "37fc30f5",
   "metadata": {},
   "outputs": [
    {
     "data": {
      "text/plain": [
       "5.0"
      ]
     },
     "execution_count": 87,
     "metadata": {},
     "output_type": "execute_result"
    }
   ],
   "source": [
    "def myfunc(a,b):\n",
    "    \n",
    "    #Return 5% of the sum of a and b\n",
    "    return sum((a,b)) * 0.05\n",
    "\n",
    "myfunc(40,60)\n"
   ]
  },
  {
   "cell_type": "code",
   "execution_count": 90,
   "id": "3c114f83",
   "metadata": {},
   "outputs": [
    {
     "data": {
      "text/plain": [
       "10.0"
      ]
     },
     "execution_count": 90,
     "metadata": {},
     "output_type": "execute_result"
    }
   ],
   "source": [
    "def myfunc(a,b,c = 0,d = 0,e = 0): #If we want to see the ouptput of only two or three elements instead of all elements than we have to mention them as zero.\n",
    "    \n",
    "    #Return 5% of the sum of a and b\n",
    "    return sum((a,b,c,d,e)) * 0.05\n",
    "\n",
    "myfunc(40,60,100)"
   ]
  },
  {
   "cell_type": "code",
   "execution_count": 91,
   "id": "3b6bba81",
   "metadata": {},
   "outputs": [
    {
     "data": {
      "text/plain": [
       "5.0"
      ]
     },
     "execution_count": 91,
     "metadata": {},
     "output_type": "execute_result"
    }
   ],
   "source": [
    "myfunc(10,20,40,30) "
   ]
  },
  {
   "cell_type": "markdown",
   "id": "81a5eaf3",
   "metadata": {},
   "source": [
    "*Args"
   ]
  },
  {
   "cell_type": "code",
   "execution_count": 92,
   "id": "942683b5",
   "metadata": {},
   "outputs": [],
   "source": [
    "def myfunc(*args):   #By default Python is going to do is it's going to take all the parameters that are passed in and set them to be inside a tuple.So we are going to pass let's say 40,60,100 and we get back 10\n",
    "    return sum(args) * 0.05"
   ]
  },
  {
   "cell_type": "code",
   "execution_count": 93,
   "id": "f46164d9",
   "metadata": {},
   "outputs": [
    {
     "data": {
      "text/plain": [
       "10.0"
      ]
     },
     "execution_count": 93,
     "metadata": {},
     "output_type": "execute_result"
    }
   ],
   "source": [
    "myfunc(40,60,100)"
   ]
  },
  {
   "cell_type": "code",
   "execution_count": 102,
   "id": "1486e879",
   "metadata": {},
   "outputs": [
    {
     "name": "stdout",
     "output_type": "stream",
     "text": [
      "(40, 60, 10, 20, 30)\n"
     ]
    }
   ],
   "source": [
    "def funny(*args):   #It gives us result in form of tuple. #args is argument\n",
    "    print(args)\n",
    "    \n",
    "funny(40,60,10,20,30)    "
   ]
  },
  {
   "cell_type": "markdown",
   "id": "eef18895",
   "metadata": {},
   "source": [
    "**Kwargs"
   ]
  },
  {
   "cell_type": "code",
   "execution_count": 111,
   "id": "38aa5f5d",
   "metadata": {},
   "outputs": [],
   "source": [
    "def myfunc(**kwargs): #It gives us output in form of Dictionary.\n",
    "    print(kwargs)"
   ]
  },
  {
   "cell_type": "code",
   "execution_count": 112,
   "id": "43179498",
   "metadata": {},
   "outputs": [
    {
     "name": "stdout",
     "output_type": "stream",
     "text": [
      "{'fruit': 'apple', 'veggie': 'lettuce'}\n"
     ]
    }
   ],
   "source": [
    "myfunc(fruit = 'apple', veggie = 'lettuce')"
   ]
  },
  {
   "cell_type": "code",
   "execution_count": 113,
   "id": "861c4378",
   "metadata": {},
   "outputs": [],
   "source": [
    "def myfunc(**kwargs): \n",
    "    if'fruit' in kwargs:\n",
    "        print('My Fruit of Choice is {}'.format(kwargs['fruit']))\n",
    "    else:\n",
    "        print('I did not find any fruit here')"
   ]
  },
  {
   "cell_type": "code",
   "execution_count": 114,
   "id": "2d6223ac",
   "metadata": {},
   "outputs": [
    {
     "name": "stdout",
     "output_type": "stream",
     "text": [
      "My Fruit of Choice is apple\n"
     ]
    }
   ],
   "source": [
    "myfunc(fruit = 'apple', veggie = 'lettuce')"
   ]
  },
  {
   "cell_type": "code",
   "execution_count": 115,
   "id": "079e3613",
   "metadata": {},
   "outputs": [],
   "source": [
    "def myfunc(**kwargs):\n",
    "    print(kwargs)\n",
    "    if'fruit' in kwargs:\n",
    "        print('My Fruit of Choice is {}'.format(kwargs['fruit']))\n",
    "    else:\n",
    "        print('I did not find any fruit here')"
   ]
  },
  {
   "cell_type": "code",
   "execution_count": 116,
   "id": "bd51d6f4",
   "metadata": {},
   "outputs": [
    {
     "name": "stdout",
     "output_type": "stream",
     "text": [
      "{'fruit': 'apple', 'veggie': 'lettuce'}\n",
      "My Fruit of Choice is apple\n"
     ]
    }
   ],
   "source": [
    "myfunc(fruit = 'apple', veggie = 'lettuce')"
   ]
  },
  {
   "cell_type": "code",
   "execution_count": null,
   "id": "9cb4fb34",
   "metadata": {},
   "outputs": [],
   "source": [
    "#Function with Logic"
   ]
  },
  {
   "cell_type": "code",
   "execution_count": 4,
   "id": "7824e339",
   "metadata": {},
   "outputs": [
    {
     "data": {
      "text/plain": [
       "True"
      ]
     },
     "execution_count": 4,
     "metadata": {},
     "output_type": "execute_result"
    }
   ],
   "source": [
    "def even_check(number):\n",
    "    return number % 2 == 0\n",
    "\n",
    "even_check(20)"
   ]
  },
  {
   "cell_type": "code",
   "execution_count": null,
   "id": "297ca46a",
   "metadata": {},
   "outputs": [],
   "source": [
    "#Retrun True if any number is Even inside the list"
   ]
  },
  {
   "cell_type": "code",
   "execution_count": 31,
   "id": "36cc0c10",
   "metadata": {},
   "outputs": [],
   "source": [
    "def check_even_list(num_list):\n",
    "    for number in num_list:\n",
    "        if number % 2 == 0:\n",
    "            return True\n",
    "        else:\n",
    "            pass\n",
    "        "
   ]
  },
  {
   "cell_type": "code",
   "execution_count": 32,
   "id": "6e98fb86",
   "metadata": {},
   "outputs": [],
   "source": [
    "check_even_list([1,3,5]) #All Odds numbers,nothing is returned"
   ]
  },
  {
   "cell_type": "code",
   "execution_count": 16,
   "id": "a1d33c89",
   "metadata": {},
   "outputs": [
    {
     "data": {
      "text/plain": [
       "True"
      ]
     },
     "execution_count": 16,
     "metadata": {},
     "output_type": "execute_result"
    }
   ],
   "source": [
    "check_even_list([2,3,5])  #To Even numbers in it, it returns back true."
   ]
  },
  {
   "cell_type": "code",
   "execution_count": 37,
   "id": "309744cd",
   "metadata": {},
   "outputs": [],
   "source": [
    "def check_even_list(num_list):\n",
    "    for number in num_list:\n",
    "        if number % 2 == 0:\n",
    "            return True\n",
    "        else:\n",
    "            pass\n",
    "     \n",
    "    return False"
   ]
  },
  {
   "cell_type": "code",
   "execution_count": 25,
   "id": "f2d53cc1",
   "metadata": {},
   "outputs": [
    {
     "data": {
      "text/plain": [
       "True"
      ]
     },
     "execution_count": 25,
     "metadata": {},
     "output_type": "execute_result"
    }
   ],
   "source": [
    "check_even_list([2,5,6])"
   ]
  },
  {
   "cell_type": "code",
   "execution_count": 38,
   "id": "e5e7f815",
   "metadata": {},
   "outputs": [
    {
     "data": {
      "text/plain": [
       "False"
      ]
     },
     "execution_count": 38,
     "metadata": {},
     "output_type": "execute_result"
    }
   ],
   "source": [
    "check_even_list([1,3,5])"
   ]
  },
  {
   "cell_type": "code",
   "execution_count": 40,
   "id": "efaa5aec",
   "metadata": {},
   "outputs": [],
   "source": [
    "def check_even_list(num_list):\n",
    "    #Return all the even numbers in a list\n",
    "    \n",
    "    #Placeholder variables\n",
    "    even_numbers = []\n",
    "    for number in num_list:\n",
    "        if number % 2 == 0:\n",
    "            even_numbers.append(number)\n",
    "        else:\n",
    "            pass\n",
    "     \n",
    "    return even_numbers"
   ]
  },
  {
   "cell_type": "code",
   "execution_count": 43,
   "id": "127375f6",
   "metadata": {},
   "outputs": [
    {
     "data": {
      "text/plain": [
       "[2, 6, 8]"
      ]
     },
     "execution_count": 43,
     "metadata": {},
     "output_type": "execute_result"
    }
   ],
   "source": [
    "check_even_list([1,2,5,6,8,9])"
   ]
  },
  {
   "cell_type": "markdown",
   "id": "046e729e",
   "metadata": {},
   "source": [
    "# Functions and Tuple Unpacking"
   ]
  },
  {
   "cell_type": "code",
   "execution_count": 44,
   "id": "2a5ae06a",
   "metadata": {},
   "outputs": [],
   "source": [
    "Stock_prices = [('Apple',200),('Google',400),('MSFT',100)]"
   ]
  },
  {
   "cell_type": "code",
   "execution_count": 45,
   "id": "7ba2a799",
   "metadata": {},
   "outputs": [
    {
     "name": "stdout",
     "output_type": "stream",
     "text": [
      "220.0\n",
      "440.0\n",
      "110.0\n"
     ]
    }
   ],
   "source": [
    "for ticker,price in Stock_prices:\n",
    "    print(price+(0.1*price))"
   ]
  },
  {
   "cell_type": "code",
   "execution_count": 46,
   "id": "2a52b9bc",
   "metadata": {},
   "outputs": [],
   "source": [
    "work_hours = [('Abby',100),('Billy',400),('Cassie',800)]"
   ]
  },
  {
   "cell_type": "code",
   "execution_count": 60,
   "id": "cd8e584f",
   "metadata": {},
   "outputs": [],
   "source": [
    "def employee_check(work_hours):  #we will find out who worked the max hours because no one will start beating this equation right here of our greater than the current max\n",
    "    \n",
    "    current_max = 0\n",
    "    employee_of_month = ''\n",
    "    \n",
    "    for employee,hours in work_hours:\n",
    "        if hours > current_max:\n",
    "            current_max = hours\n",
    "            employee_of_month = employee\n",
    "        else:\n",
    "            pass\n",
    "        \n",
    "    return(employee_of_month,current_max)    "
   ]
  },
  {
   "cell_type": "code",
   "execution_count": 61,
   "id": "469e91e7",
   "metadata": {},
   "outputs": [
    {
     "data": {
      "text/plain": [
       "('Cassie', 800)"
      ]
     },
     "execution_count": 61,
     "metadata": {},
     "output_type": "execute_result"
    }
   ],
   "source": [
    "employee_check(work_hours)"
   ]
  },
  {
   "cell_type": "code",
   "execution_count": 67,
   "id": "1c142b07",
   "metadata": {},
   "outputs": [],
   "source": [
    "#Tuple Unpacking\n",
    "name,hours = employee_check(work_hours)"
   ]
  },
  {
   "cell_type": "code",
   "execution_count": 65,
   "id": "85c7dc8e",
   "metadata": {},
   "outputs": [
    {
     "data": {
      "text/plain": [
       "'Cassie'"
      ]
     },
     "execution_count": 65,
     "metadata": {},
     "output_type": "execute_result"
    }
   ],
   "source": [
    "name"
   ]
  },
  {
   "cell_type": "code",
   "execution_count": 66,
   "id": "b1c67321",
   "metadata": {},
   "outputs": [
    {
     "data": {
      "text/plain": [
       "800"
      ]
     },
     "execution_count": 66,
     "metadata": {},
     "output_type": "execute_result"
    }
   ],
   "source": [
    "hours"
   ]
  },
  {
   "cell_type": "markdown",
   "id": "07ddf715",
   "metadata": {},
   "source": [
    "# Interactions between python functions"
   ]
  },
  {
   "cell_type": "code",
   "execution_count": 68,
   "id": "3fb5161e",
   "metadata": {},
   "outputs": [],
   "source": [
    "example = [1,2,3,4,5,6,7]"
   ]
  },
  {
   "cell_type": "code",
   "execution_count": 69,
   "id": "941e71c1",
   "metadata": {},
   "outputs": [],
   "source": [
    "from random import shuffle"
   ]
  },
  {
   "cell_type": "code",
   "execution_count": 70,
   "id": "ba0d47f8",
   "metadata": {},
   "outputs": [],
   "source": [
    "shuffle(example)"
   ]
  },
  {
   "cell_type": "code",
   "execution_count": 71,
   "id": "c3bc9c42",
   "metadata": {},
   "outputs": [
    {
     "data": {
      "text/plain": [
       "[3, 6, 2, 4, 1, 5, 7]"
      ]
     },
     "execution_count": 71,
     "metadata": {},
     "output_type": "execute_result"
    }
   ],
   "source": [
    "example"
   ]
  },
  {
   "cell_type": "code",
   "execution_count": 76,
   "id": "81fc888f",
   "metadata": {},
   "outputs": [],
   "source": [
    "def shuffle_list(mylist):\n",
    "    shuffle(mylist)\n",
    "    return mylist"
   ]
  },
  {
   "cell_type": "code",
   "execution_count": 73,
   "id": "4c956434",
   "metadata": {},
   "outputs": [],
   "source": [
    "result = shuffle_list(example)"
   ]
  },
  {
   "cell_type": "code",
   "execution_count": 74,
   "id": "f99a5efc",
   "metadata": {},
   "outputs": [
    {
     "data": {
      "text/plain": [
       "[7, 1, 6, 2, 4, 3, 5]"
      ]
     },
     "execution_count": 74,
     "metadata": {},
     "output_type": "execute_result"
    }
   ],
   "source": [
    "result"
   ]
  },
  {
   "cell_type": "code",
   "execution_count": 84,
   "id": "60ad5ea1",
   "metadata": {},
   "outputs": [
    {
     "data": {
      "text/plain": [
       "['O', ' ', ' ']"
      ]
     },
     "execution_count": 84,
     "metadata": {},
     "output_type": "execute_result"
    }
   ],
   "source": [
    "mylist = [' ','O',' ']\n",
    "shuffle_list(mylist)"
   ]
  },
  {
   "cell_type": "code",
   "execution_count": 85,
   "id": "ad28b897",
   "metadata": {},
   "outputs": [],
   "source": [
    "def player_guess():\n",
    "    guess = ''\n",
    "    while guess not in ['0','1','2']:\n",
    "        guess = input(\"Pick a number: 0,1, or 2\")\n",
    "        return int (guess)    "
   ]
  },
  {
   "cell_type": "code",
   "execution_count": 86,
   "id": "7320882f",
   "metadata": {},
   "outputs": [
    {
     "name": "stdout",
     "output_type": "stream",
     "text": [
      "Pick a number: 0,1, or 21\n"
     ]
    },
    {
     "data": {
      "text/plain": [
       "1"
      ]
     },
     "execution_count": 86,
     "metadata": {},
     "output_type": "execute_result"
    }
   ],
   "source": [
    "player_guess()"
   ]
  },
  {
   "cell_type": "markdown",
   "id": "c83dfc99",
   "metadata": {},
   "source": [
    "# MAP"
   ]
  },
  {
   "cell_type": "code",
   "execution_count": 142,
   "id": "70bc6912",
   "metadata": {},
   "outputs": [],
   "source": [
    "def square(num):\n",
    "    return num*2 "
   ]
  },
  {
   "cell_type": "code",
   "execution_count": 143,
   "id": "422625c0",
   "metadata": {},
   "outputs": [],
   "source": [
    "my_nums = [1,2,3,4,5]"
   ]
  },
  {
   "cell_type": "code",
   "execution_count": 123,
   "id": "4608c64e",
   "metadata": {},
   "outputs": [
    {
     "name": "stdout",
     "output_type": "stream",
     "text": [
      "2\n",
      "4\n",
      "6\n",
      "8\n",
      "10\n"
     ]
    }
   ],
   "source": [
    "for item in map(square,my_nums):   #Map applied this function to every element(Square) in that list filter(my_nums)\n",
    "    print(item)"
   ]
  },
  {
   "cell_type": "code",
   "execution_count": 124,
   "id": "e374aa40",
   "metadata": {},
   "outputs": [
    {
     "data": {
      "text/plain": [
       "[2, 4, 6, 8, 10]"
      ]
     },
     "execution_count": 124,
     "metadata": {},
     "output_type": "execute_result"
    }
   ],
   "source": [
    "list(map(square,my_nums))"
   ]
  },
  {
   "cell_type": "code",
   "execution_count": 125,
   "id": "93aed35e",
   "metadata": {},
   "outputs": [],
   "source": [
    "def splicer(mystring):\n",
    "    if len(mystring)%2 == 0:\n",
    "        return 'Even'\n",
    "    else:\n",
    "        return mystring[0]"
   ]
  },
  {
   "cell_type": "code",
   "execution_count": 126,
   "id": "89529c59",
   "metadata": {},
   "outputs": [],
   "source": [
    "names = ['Andy','Eve','Sally']"
   ]
  },
  {
   "cell_type": "code",
   "execution_count": 127,
   "id": "33aaba92",
   "metadata": {},
   "outputs": [
    {
     "data": {
      "text/plain": [
       "['Even', 'E', 'S']"
      ]
     },
     "execution_count": 127,
     "metadata": {},
     "output_type": "execute_result"
    }
   ],
   "source": [
    "list(map(splicer,names))"
   ]
  },
  {
   "cell_type": "code",
   "execution_count": null,
   "id": "7a82a695",
   "metadata": {},
   "outputs": [],
   "source": [
    "#Filter Function"
   ]
  },
  {
   "cell_type": "code",
   "execution_count": 128,
   "id": "9f54a6b1",
   "metadata": {},
   "outputs": [],
   "source": [
    "def check_even(num):  #Going to filter based off this function's condition.\n",
    "    return num%2 == 0"
   ]
  },
  {
   "cell_type": "code",
   "execution_count": 129,
   "id": "0004a751",
   "metadata": {},
   "outputs": [],
   "source": [
    "mynums = [1,2,3,4,5,6]"
   ]
  },
  {
   "cell_type": "code",
   "execution_count": 130,
   "id": "f801532a",
   "metadata": {},
   "outputs": [
    {
     "data": {
      "text/plain": [
       "[2, 4, 6]"
      ]
     },
     "execution_count": 130,
     "metadata": {},
     "output_type": "execute_result"
    }
   ],
   "source": [
    "list(filter(check_even,mynums))"
   ]
  },
  {
   "cell_type": "code",
   "execution_count": 131,
   "id": "78947765",
   "metadata": {},
   "outputs": [
    {
     "name": "stdout",
     "output_type": "stream",
     "text": [
      "2\n",
      "4\n",
      "6\n"
     ]
    }
   ],
   "source": [
    "for n in filter(check_even,mynums):\n",
    "    print(n)"
   ]
  },
  {
   "cell_type": "code",
   "execution_count": null,
   "id": "78d9cee3",
   "metadata": {},
   "outputs": [],
   "source": [
    "#Lambda Function"
   ]
  },
  {
   "cell_type": "code",
   "execution_count": 133,
   "id": "7c558013",
   "metadata": {},
   "outputs": [
    {
     "data": {
      "text/plain": [
       "6"
      ]
     },
     "execution_count": 133,
     "metadata": {},
     "output_type": "execute_result"
    }
   ],
   "source": [
    "def square(num):\n",
    "    result = num*2\n",
    "    return result\n",
    "square(3)"
   ]
  },
  {
   "cell_type": "code",
   "execution_count": null,
   "id": "7ad75b83",
   "metadata": {},
   "outputs": [],
   "source": [
    "#We can write above code in same manner by using lambda"
   ]
  },
  {
   "cell_type": "code",
   "execution_count": 134,
   "id": "651e9175",
   "metadata": {},
   "outputs": [
    {
     "data": {
      "text/plain": [
       "6"
      ]
     },
     "execution_count": 134,
     "metadata": {},
     "output_type": "execute_result"
    }
   ],
   "source": [
    "square = lambda num : num *2\n",
    "square(3)"
   ]
  },
  {
   "cell_type": "code",
   "execution_count": null,
   "id": "8b134b39",
   "metadata": {},
   "outputs": [],
   "source": [
    "#we can use map and filter with lambda "
   ]
  },
  {
   "cell_type": "code",
   "execution_count": 147,
   "id": "16d20cc5",
   "metadata": {},
   "outputs": [
    {
     "data": {
      "text/plain": [
       "[1, 4, 9, 16, 25, 36]"
      ]
     },
     "execution_count": 147,
     "metadata": {},
     "output_type": "execute_result"
    }
   ],
   "source": [
    "mynums = [1,2,3,4,5,6]\n",
    "list(map(lambda num: num**2 , mynums))"
   ]
  },
  {
   "cell_type": "code",
   "execution_count": 144,
   "id": "c0b322f7",
   "metadata": {},
   "outputs": [
    {
     "data": {
      "text/plain": [
       "[2, 4, 6]"
      ]
     },
     "execution_count": 144,
     "metadata": {},
     "output_type": "execute_result"
    }
   ],
   "source": [
    "list(filter(lambda num : num%2 == 0, mynums))"
   ]
  },
  {
   "cell_type": "code",
   "execution_count": null,
   "id": "1ad39c13",
   "metadata": {},
   "outputs": [],
   "source": [
    "names = ['Andy','Eve','Sally']"
   ]
  },
  {
   "cell_type": "code",
   "execution_count": 146,
   "id": "7700b717",
   "metadata": {},
   "outputs": [
    {
     "data": {
      "text/plain": [
       "['A', 'E', 'S']"
      ]
     },
     "execution_count": 146,
     "metadata": {},
     "output_type": "execute_result"
    }
   ],
   "source": [
    "list(map(lambda x: x[0], names))"
   ]
  },
  {
   "cell_type": "markdown",
   "id": "5c602025",
   "metadata": {},
   "source": [
    "# Nested Statements and Scope"
   ]
  },
  {
   "cell_type": "code",
   "execution_count": 168,
   "id": "75304fdb",
   "metadata": {},
   "outputs": [
    {
     "name": "stdout",
     "output_type": "stream",
     "text": [
      "Hello Sammy\n"
     ]
    }
   ],
   "source": [
    "#GLOBAL\n",
    "name = 'This is a global string'\n",
    "\n",
    "def great():        #Hello() executes first which is called local.\n",
    "    name = 'Sammy'\n",
    "    \n",
    "    #LOCAL\n",
    "    def hello():    #This is function under function and should be written with correct indentation.hello() should write under def hello function.\n",
    "        print('Hello '+name)\n",
    "    hello()\n",
    "    \n",
    "great()"
   ]
  },
  {
   "cell_type": "code",
   "execution_count": 169,
   "id": "7b67da6d",
   "metadata": {},
   "outputs": [
    {
     "name": "stdout",
     "output_type": "stream",
     "text": [
      "Hello I am a local\n"
     ]
    }
   ],
   "source": [
    "#GLOBAL\n",
    "name = 'This is a global string'\n",
    "\n",
    "def great():\n",
    "    \n",
    "    #ENCLOSING\n",
    "    name = 'Sammy'\n",
    "    \n",
    "    def hello():\n",
    "        #LOCAL\n",
    "        name = 'I am a local'\n",
    "        print('Hello '+name)\n",
    "    \n",
    "    hello()   \n",
    "    \n",
    "great()    \n",
    "    "
   ]
  },
  {
   "cell_type": "code",
   "execution_count": 170,
   "id": "ed4ff052",
   "metadata": {},
   "outputs": [
    {
     "name": "stdout",
     "output_type": "stream",
     "text": [
      "Hello Sammy\n"
     ]
    }
   ],
   "source": [
    "#If we make name = 'I am a local' in comment form than it will look in the next level which is name = 'Sammy'. If we again make name = 'Sammy' in comment form than it will look in the global namespace level.\n",
    "\n",
    "#GLOBAL\n",
    "name = 'This is a global string'\n",
    "\n",
    "def great():\n",
    "    \n",
    "    #ENCLOSING\n",
    "    name = 'Sammy'\n",
    "    \n",
    "    def hello():\n",
    "        #LOCAL\n",
    "        #name = 'I am a local'\n",
    "        print('Hello '+name)\n",
    "    \n",
    "    hello()   \n",
    "    \n",
    "great()    \n",
    "    "
   ]
  },
  {
   "cell_type": "code",
   "execution_count": null,
   "id": "a7286180",
   "metadata": {},
   "outputs": [],
   "source": []
  },
  {
   "cell_type": "code",
   "execution_count": null,
   "id": "599d9318",
   "metadata": {},
   "outputs": [],
   "source": []
  }
 ],
 "metadata": {
  "kernelspec": {
   "display_name": "Python 3",
   "language": "python",
   "name": "python3"
  },
  "language_info": {
   "codemirror_mode": {
    "name": "ipython",
    "version": 3
   },
   "file_extension": ".py",
   "mimetype": "text/x-python",
   "name": "python",
   "nbconvert_exporter": "python",
   "pygments_lexer": "ipython3",
   "version": "3.8.8"
  }
 },
 "nbformat": 4,
 "nbformat_minor": 5
}
